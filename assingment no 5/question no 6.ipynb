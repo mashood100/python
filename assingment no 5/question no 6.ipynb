{
 "cells": [
  {
   "cell_type": "code",
   "execution_count": 1,
   "metadata": {},
   "outputs": [
    {
     "name": "stdout",
     "output_type": "stream",
     "text": [
      "This function is showing bought details\n",
      "I have bought Denim jeans with Calvin Klein T-shirt\n",
      "\n",
      "------------------------------\n",
      "This items is remaning for purchase\n",
      "Leather Belt\n",
      "LV Cap\n"
     ]
    }
   ],
   "source": [
    "def shop(*otherproducts,jeans,tshirt):\n",
    "    print(\"This function is showing bought details\")\n",
    "    print(\"I have bought {} jeans with {} T-shirt\".format(jeans,tshirt))\n",
    "    print(\"\\n------------------------------\\nThis items is remaning for purchase\")\n",
    "    for other in otherproducts:\n",
    "        print(other)\n",
    "    \n",
    "\n",
    "shop('Leather Belt','LV Cap',jeans='Denim',tshirt='Calvin Klein')"
   ]
  }
 ],
 "metadata": {
  "kernelspec": {
   "display_name": "Python 3",
   "language": "python",
   "name": "python3"
  },
  "language_info": {
   "codemirror_mode": {
    "name": "ipython",
    "version": 3
   },
   "file_extension": ".py",
   "mimetype": "text/x-python",
   "name": "python",
   "nbconvert_exporter": "python",
   "pygments_lexer": "ipython3",
   "version": "3.7.4"
  }
 },
 "nbformat": 4,
 "nbformat_minor": 2
}
