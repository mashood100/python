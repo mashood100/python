{
 "cells": [
  {
   "cell_type": "code",
   "execution_count": 3,
   "metadata": {},
   "outputs": [
    {
     "name": "stdout",
     "output_type": "stream",
     "text": [
      "Enter Number 78\n",
      "78 is not a prime\n"
     ]
    }
   ],
   "source": [
    "number = int(input(\"Enter Number \"))\n",
    "\n",
    "def prime(number):\n",
    "    if number > 1:\n",
    "        for i in range(2,number):\n",
    "            if(number % i) == 0:\n",
    "                print(str(number) + \" is not a prime\")\n",
    "                break\n",
    "        else:\n",
    "            print(str(number)+\" is a prime\")\n",
    "    else:\n",
    "        print(str(number) + \" is not a prime\")\n",
    "            \n",
    "prime(number)"
   ]
  }
 ],
 "metadata": {
  "kernelspec": {
   "display_name": "Python 3",
   "language": "python",
   "name": "python3"
  },
  "language_info": {
   "codemirror_mode": {
    "name": "ipython",
    "version": 3
   },
   "file_extension": ".py",
   "mimetype": "text/x-python",
   "name": "python",
   "nbconvert_exporter": "python",
   "pygments_lexer": "ipython3",
   "version": "3.7.4"
  }
 },
 "nbformat": 4,
 "nbformat_minor": 2
}
