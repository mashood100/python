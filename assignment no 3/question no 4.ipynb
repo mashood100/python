{
 "cells": [
  {
   "cell_type": "code",
   "execution_count": 5,
   "metadata": {},
   "outputs": [
    {
     "name": "stdout",
     "output_type": "stream",
     "text": [
      "The sum of item is :  317\n"
     ]
    }
   ],
   "source": [
    "#question no 4\n",
    "#summ of all numaric items in list\n",
    "\n",
    "Items = {'val1':98, \n",
    "        'val2': 190,\n",
    "        'val3': 29}\n",
    "\n",
    "print(\"The sum of item is : \",sum(Items.values()))"
   ]
  },
  {
   "cell_type": "code",
   "execution_count": null,
   "metadata": {},
   "outputs": [],
   "source": []
  }
 ],
 "metadata": {
  "kernelspec": {
   "display_name": "Python 3",
   "language": "python",
   "name": "python3"
  },
  "language_info": {
   "codemirror_mode": {
    "name": "ipython",
    "version": 3
   },
   "file_extension": ".py",
   "mimetype": "text/x-python",
   "name": "python",
   "nbconvert_exporter": "python",
   "pygments_lexer": "ipython3",
   "version": "3.7.4"
  }
 },
 "nbformat": 4,
 "nbformat_minor": 2
}
