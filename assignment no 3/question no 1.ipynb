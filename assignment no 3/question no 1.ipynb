{
 "cells": [
  {
   "cell_type": "code",
   "execution_count": 2,
   "metadata": {},
   "outputs": [
    {
     "name": "stdout",
     "output_type": "stream",
     "text": [
      "Enter number 1: 34\n",
      "Enter Operator: +\n",
      "Enter number 2: 89\n",
      "123\n"
     ]
    }
   ],
   "source": [
    "#question no 1 calculator\n",
    "num1 = int(input(\"Enter number 1: \"))\n",
    "oper = input(\"Enter Operator: \")\n",
    "num2 = int(input(\"Enter number 2: \"))\n",
    "\n",
    "if oper == '+':\n",
    "    print(num1 + num2)\n",
    "elif oper == '-':\n",
    "    print(num1 - num2)\n",
    "elif oper == '*':\n",
    "    print(num1*num2)\n",
    "elif oper == '/':\n",
    "    print(num1 / num2)\n",
    "elif oper == '^':\n",
    "    print(num1**num2)    # ** is power sign in Python\n",
    "else:\n",
    "    print(\"operator is Invalide\")"
   ]
  },
  {
   "cell_type": "code",
   "execution_count": null,
   "metadata": {},
   "outputs": [],
   "source": []
  }
 ],
 "metadata": {
  "kernelspec": {
   "display_name": "Python 3",
   "language": "python",
   "name": "python3"
  },
  "language_info": {
   "codemirror_mode": {
    "name": "ipython",
    "version": 3
   },
   "file_extension": ".py",
   "mimetype": "text/x-python",
   "name": "python",
   "nbconvert_exporter": "python",
   "pygments_lexer": "ipython3",
   "version": "3.7.4"
  }
 },
 "nbformat": 4,
 "nbformat_minor": 2
}
