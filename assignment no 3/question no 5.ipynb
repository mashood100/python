{
 "cells": [
  {
   "cell_type": "code",
   "execution_count": 8,
   "metadata": {},
   "outputs": [
    {
     "name": "stdout",
     "output_type": "stream",
     "text": [
      "Followings are the duplicate program:  [11, 36, 12]\n"
     ]
    }
   ],
   "source": [
    "#identifiy duplicate values \n",
    "\n",
    "lst = [56, 36, 99, 76, 3, 34, 11, 9, 11, 36, 12, 12]\n",
    "dup_Items = []\n",
    "uniq_Items = {}\n",
    "for a in lst:\n",
    "   if a not in uniq_Items:\n",
    "      uniq_Items[a] = 1\n",
    "   else:\n",
    "      if uniq_Items[a] == 1:\n",
    "         dup_Items.append(a)\n",
    "      uniq_Items[a] += 1\n",
    "print(\"Followings are the duplicate program: \", dup_Items)"
   ]
  },
  {
   "cell_type": "code",
   "execution_count": null,
   "metadata": {},
   "outputs": [],
   "source": []
  },
  {
   "cell_type": "code",
   "execution_count": null,
   "metadata": {},
   "outputs": [],
   "source": []
  }
 ],
 "metadata": {
  "kernelspec": {
   "display_name": "Python 3",
   "language": "python",
   "name": "python3"
  },
  "language_info": {
   "codemirror_mode": {
    "name": "ipython",
    "version": 3
   },
   "file_extension": ".py",
   "mimetype": "text/x-python",
   "name": "python",
   "nbconvert_exporter": "python",
   "pygments_lexer": "ipython3",
   "version": "3.7.4"
  }
 },
 "nbformat": 4,
 "nbformat_minor": 2
}
