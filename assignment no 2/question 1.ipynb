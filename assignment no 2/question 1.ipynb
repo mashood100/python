{
 "cells": [
  {
   "cell_type": "code",
   "execution_count": 1,
   "metadata": {},
   "outputs": [
    {
     "name": "stdout",
     "output_type": "stream",
     "text": [
      "enter your enlish no: 45\n",
      "enter your urdu no :45\n",
      "enter your islam no:45\n",
      "enter your phy no:45\n",
      "enter your  math no:45\n",
      "total no is  225\n",
      "your percentage is :  45.0\n",
      "fail\n"
     ]
    }
   ],
   "source": [
    "#question 1\n",
    "sub1 = int(input(\"enter your enlish no: \")) \n",
    "sub2 = int(input(\"enter your urdu no :\")) \n",
    "sub3 = int(input(\"enter your islam no:\")) \n",
    "sub4 = int(input(\"enter your phy no:\")) \n",
    "sub5 = int(input(\"enter your  math no:\"))\n",
    "a = sub1+sub2+sub3+sub4+sub5\n",
    "print(\"total no is \",a)\n",
    "\n",
    "per = (a/500)*100\n",
    "print(\"your percentage is : \",per)\n",
    "\n",
    "if per >=80 and per <=100: \n",
    " print(\"grade A+\")\n",
    "elif per >=70 and per <=80: \n",
    " print(\"grade A\")\n",
    "elif per >=60 and per <=70: \n",
    " print(\"grade B\")\n",
    "elif per >=50 and per <=60: \n",
    " print(\"grade C\")\n",
    "else:\n",
    " print(\"fail\")    "
   ]
  },
  {
   "cell_type": "code",
   "execution_count": null,
   "metadata": {},
   "outputs": [],
   "source": []
  }
 ],
 "metadata": {
  "kernelspec": {
   "display_name": "Python 3",
   "language": "python",
   "name": "python3"
  },
  "language_info": {
   "codemirror_mode": {
    "name": "ipython",
    "version": 3
   },
   "file_extension": ".py",
   "mimetype": "text/x-python",
   "name": "python",
   "nbconvert_exporter": "python",
   "pygments_lexer": "ipython3",
   "version": "3.7.4"
  }
 },
 "nbformat": 4,
 "nbformat_minor": 2
}
