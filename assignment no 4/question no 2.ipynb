{
 "cells": [
  {
   "cell_type": "code",
   "execution_count": 68,
   "metadata": {},
   "outputs": [
    {
     "name": "stdout",
     "output_type": "stream",
     "text": [
      " we have 3 cities database which is : \n",
      "\n",
      "karachi\n",
      "-------------------------------------------------------------------------------------\n",
      "Cairo\n",
      "-------------------------------------------------------------------------------------\n",
      "Paris\n",
      "-------------------------------------------------------------------------------------\n",
      "enter your city \n",
      "Paris\n",
      "{'name': ' paris', 'country': 'capital city of paris', 'popolution': '2.1 million}', 'fact': 'elfle tower  is 324 metres tall (including antennas) and weighs 10,100 tonnes'}\n"
     ]
    }
   ],
   "source": [
    "cities = {\n",
    "    \n",
    "    \"karachi\":{\n",
    "        \"name\" :\"karachi\",\n",
    "        \"country\":\"Pakistan\",\n",
    "        \"popolution\":\"14.5 million\",\n",
    "        \"fact\":\"It's consider as one of the most populated city in the world and support more then 20% of economy of pakistan\",\n",
    "    },\n",
    "    \"Cairo\":{\n",
    "        \"name\" :\"cairo\",\n",
    "        \"country\":\"capital of egypt\",\n",
    "        \"popolution\":\"9.5 million\",\n",
    "        \"fact\":\" have world most ancients sites\",\n",
    "    },\n",
    "   \"Paris\":{\n",
    "        \"name\" :\" paris\",\n",
    "        \"country\":\"capital city of paris\",\n",
    "        \"popolution\":\"2.1 million}\",\n",
    "        \"fact\":\"elfle tower  is 324 metres tall (including antennas) and weighs 10,100 tonnes\",\n",
    "    }\n",
    "    }\n",
    "print(\" we have 3 cities database which is : \\n\")\n",
    "for keys in cities.keys():\n",
    "    print(keys)\n",
    "    print(\"-------------------------------------------------------------------------------------\")\n",
    "    \n",
    "\n",
    "x = input(\"enter your city \\n\")\n",
    "out = cities[x]\n",
    "print(out)\n"
   ]
  },
  {
   "cell_type": "code",
   "execution_count": null,
   "metadata": {},
   "outputs": [],
   "source": []
  }
 ],
 "metadata": {
  "kernelspec": {
   "display_name": "Python 3",
   "language": "python",
   "name": "python3"
  },
  "language_info": {
   "codemirror_mode": {
    "name": "ipython",
    "version": 3
   },
   "file_extension": ".py",
   "mimetype": "text/x-python",
   "name": "python",
   "nbconvert_exporter": "python",
   "pygments_lexer": "ipython3",
   "version": "3.7.4"
  }
 },
 "nbformat": 4,
 "nbformat_minor": 2
}
