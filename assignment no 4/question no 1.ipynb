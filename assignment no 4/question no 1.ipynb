{
 "cells": [
  {
   "cell_type": "code",
   "execution_count": 45,
   "metadata": {},
   "outputs": [
    {
     "name": "stdout",
     "output_type": "stream",
     "text": [
      "here is person's information \n",
      "\n",
      "Mashood\n",
      "Hussain\n",
      "18\n",
      "Karachi\n",
      "\n",
      "here i add new data about qulification \n",
      "\n",
      "intermediate\n",
      "\n",
      "dictionary is now\n",
      "\n",
      "{'first name': 'Mashood', 'last name': 'Hussain', 'age': '18', 'city': 'Karachi', 'qualification': 'intermediate'}\n",
      "\n",
      "here is person's data after deleting qulification\n",
      "\n",
      "{'first name': 'Mashood', 'last name': 'Hussain', 'age': '18', 'city': 'Karachi'}\n"
     ]
    }
   ],
   "source": [
    "data ={\n",
    "     \"first name\":\"Mashood\",\n",
    "     \"last name\" :\"Hussain\",\n",
    "     \"age\" : \"18\",\n",
    "     \"city\" : \"Karachi\",\n",
    "    \n",
    "}\n",
    "\n",
    "print(\"here is person's information \"+\"\\n\")\n",
    "#storing values in a\n",
    "\n",
    "a = data[\"first name\"]+ \"\\n\" +data[\"last name\"] +\"\\n\"+data[\"age\"]+\"\\n\"+data[\"city\"]\n",
    "\n",
    "print(a +\"\\n\")\n",
    "\n",
    "print(\"here i add new data about qulification \"+\"\\n\")\n",
    "\n",
    "\n",
    "data.update({\"qualification\":\"intermediate\"})\n",
    "\n",
    "print(data[\"qualification\"]+'\\n')\n",
    "\n",
    "print(\"dictionary is now\"+\"\\n\")\n",
    "# dictionary \n",
    "\n",
    "print(data)\n",
    "#remove\n",
    "\n",
    "del data[\"qualification\"]\n",
    "print(\"\\n\"+\"here is person's data after deleting qulification\"+'\\n')\n",
    "print(data)\n"
   ]
  }
 ],
 "metadata": {
  "kernelspec": {
   "display_name": "Python 3",
   "language": "python",
   "name": "python3"
  },
  "language_info": {
   "codemirror_mode": {
    "name": "ipython",
    "version": 3
   },
   "file_extension": ".py",
   "mimetype": "text/x-python",
   "name": "python",
   "nbconvert_exporter": "python",
   "pygments_lexer": "ipython3",
   "version": "3.7.4"
  }
 },
 "nbformat": 4,
 "nbformat_minor": 2
}
