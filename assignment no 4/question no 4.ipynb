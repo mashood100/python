{
 "cells": [
  {
   "cell_type": "code",
   "execution_count": 37,
   "metadata": {},
   "outputs": [
    {
     "name": "stdout",
     "output_type": "stream",
     "text": [
      "Welcome to mashood book collectiolns \n",
      "--------------------------------------------\n",
      "\n",
      "Enter Your Book Name : the knigth\n",
      "\n",
      " here is the details of the knigth\n",
      "----------------------------------------------\n",
      "\n",
      "the knigth {'Author': 'm.howrad', 'Publisher': 'Robles', 'Publication date': '', 'Total Pages ': '533'}\n"
     ]
    }
   ],
   "source": [
    "print(\"Welcome to mashood book collectiolns \\n--------------------------------------------\\n\")\n",
    "details = {\n",
    "    \"The foutheen rules of love\": \n",
    "    {\n",
    "        \"Author\":\"Elife shafak\",\n",
    "        \"Publisher\": \"amazon\",\n",
    "        \"Publication date\": \" 2017\",\n",
    "        \"Total Pages \":\"530\"\n",
    "    },\n",
    "    \"the knigth\": \n",
    "    {\n",
    "        \"Author\":\"m.howrad\",\n",
    "        \"Publisher\": \"Robles\",\n",
    "        \"Publication date\": \"\",\n",
    "        \"Total Pages \":\"533\"\n",
    "    },\n",
    "    \"Al chemist\": \n",
    "    {\n",
    "        \"Author\":\"poaulo coealo\",\n",
    "        \"Publisher\": \"Olympia Press\",\n",
    "        \"Publication date\": \"1988\",\n",
    "        \"Total Pages \":\"280\"\n",
    "        \n",
    "    }\n",
    "}\n",
    "input_book= input(\"Enter Your Book Name : \")\n",
    "\n",
    "def find_book(input_book):\n",
    "    flag = False \n",
    "    for key,value in details.items():\n",
    "        if key == input_book:\n",
    "            flag =  True\n",
    "            break\n",
    "    if(flag):            \n",
    "        print(\"\\n here is the details of \" +input_book +\"\\n----------------------------------------------\\n\")\n",
    "        print(str(key) + \" \" + str(value) )\n",
    "    else:\n",
    "        print(\"Thanks for coming but we don't have\"+input_book)    \n",
    "    \n",
    "            \n",
    "find_book(input_book)"
   ]
  }
 ],
 "metadata": {
  "kernelspec": {
   "display_name": "Python 3",
   "language": "python",
   "name": "python3"
  },
  "language_info": {
   "codemirror_mode": {
    "name": "ipython",
    "version": 3
   },
   "file_extension": ".py",
   "mimetype": "text/x-python",
   "name": "python",
   "nbconvert_exporter": "python",
   "pygments_lexer": "ipython3",
   "version": "3.7.4"
  }
 },
 "nbformat": 4,
 "nbformat_minor": 2
}
