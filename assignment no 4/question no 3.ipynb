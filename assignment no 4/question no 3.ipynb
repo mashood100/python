{
 "cells": [
  {
   "cell_type": "code",
   "execution_count": 11,
   "metadata": {},
   "outputs": [
    {
     "name": "stdout",
     "output_type": "stream",
     "text": [
      "movie theatre ticket machine enter your age for ticket\n",
      "-----------------------------------------------------\n",
      "enter your age in number18\n",
      " \n",
      "Your Ticket price is $15. \n",
      "\n",
      "Thanks for coming\n"
     ]
    }
   ],
   "source": [
    "#ticket machine for theater\n",
    "\n",
    "print(\"movie theatre ticket machine enter your age for ticket\")\n",
    "print(\"-----------------------------------------------------\")\n",
    "\n",
    "age =int(input(\"enter your age in number\"))\n",
    "\n",
    "for a in range(0,3):\n",
    "    if age <= 3:\n",
    "        print(\" \\nYour Ticket is Free.\")\n",
    "        print(\"Thanks for coming\")\n",
    "        break\n",
    "        \n",
    "    elif age <= 12 and age >= 3:\n",
    "        print(\" \\nYour Ticket price is 10$.\")\n",
    "        print(\"Thanks for coming\")\n",
    "        break  \n",
    "        \n",
    "    elif age >= 12:\n",
    "        print(\" \\nYour Ticket price is $15. \\n\")\n",
    "        print(\"Thanks for coming\")\n",
    "        break\n",
    "        \n",
    "    else:\n",
    "        print(\"you enter inappropriate age\")\n",
    "        \n",
    "        "
   ]
  },
  {
   "cell_type": "code",
   "execution_count": null,
   "metadata": {},
   "outputs": [],
   "source": [
    "\n",
    "\n",
    "\n",
    "\n",
    "\n",
    "\n",
    "\n",
    "\n",
    "\n",
    "\n",
    "\n",
    "\n",
    "\n",
    "\n",
    "\n",
    "\n",
    "\n",
    "\n",
    "\n",
    "\n",
    "\n",
    "\n",
    "\n",
    "\n",
    "\n",
    "\n",
    "\n"
   ]
  },
  {
   "cell_type": "code",
   "execution_count": 6,
   "metadata": {},
   "outputs": [
    {
     "name": "stdout",
     "output_type": "stream",
     "text": [
      "Welcome to online ticket booking system\n",
      "--------------------------------\n",
      "\n",
      "We have different prices of tickets according your age\n",
      "\n",
      "Please enter Your Age 34\n",
      " \n",
      "Your Ticket price is $15.\n"
     ]
    }
   ],
   "source": [
    "print(\"Welcome to online ticket booking system\\n--------------------------------\\n\\nWe have different prices of tickets according your age\")\n",
    "age = int(input(\"\\nPlease enter Your Age \"))\n",
    "for i in range(0,3):\n",
    "    if age <= 3:\n",
    "        print(\" \\nYour Ticket is Free.\")\n",
    "        break\n",
    "    elif age <= 12 and age >= 3:\n",
    "        print(\" \\nYour Ticket price is 10$.\")\n",
    "        break        \n",
    "    elif age >= 12:\n",
    "        print(\" \\nYour Ticket price is $15.\")\n",
    "        break"
   ]
  },
  {
   "cell_type": "code",
   "execution_count": null,
   "metadata": {},
   "outputs": [],
   "source": []
  }
 ],
 "metadata": {
  "kernelspec": {
   "display_name": "Python 3",
   "language": "python",
   "name": "python3"
  },
  "language_info": {
   "codemirror_mode": {
    "name": "ipython",
    "version": 3
   },
   "file_extension": ".py",
   "mimetype": "text/x-python",
   "name": "python",
   "nbconvert_exporter": "python",
   "pygments_lexer": "ipython3",
   "version": "3.7.4"
  }
 },
 "nbformat": 4,
 "nbformat_minor": 2
}
