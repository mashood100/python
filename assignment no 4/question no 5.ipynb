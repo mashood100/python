{
 "cells": [
  {
   "cell_type": "code",
   "execution_count": 2,
   "metadata": {},
   "outputs": [
    {
     "name": "stdout",
     "output_type": "stream",
     "text": [
      "WELCOME to the guess the number game\n",
      "Enter One Number between 1 to 30 t\n",
      "Your input is wrong and the random number is 6\n",
      "Enter One Number between 1 to 30 67\n",
      "Your input is wrong and the random number is 9\n",
      "Enter One Number between 1 to 30 6\n",
      "Your input is wrong and the random number is 8\n",
      "Your total score is 0\n"
     ]
    }
   ],
   "source": [
    "import random\n",
    "print(\"WELCOME to the guess the number game\")\n",
    "score = 0\n",
    "Flag = False\n",
    "for x in range(0,3):\n",
    "    number = random.randint(1, 5)\n",
    "    user_number =input(\"Enter One Number between 1 to 30 \")\n",
    "    if  str(user_number) == str(number):\n",
    "        score += 10\n",
    "        Flag = True\n",
    "    if(Flag):\n",
    "        print(\"Random Number is generated \" + str(number) + \" and Your number is \"+ str(user_number))\n",
    "        \n",
    "    else:\n",
    "        print(\"Your input is wrong and the random number is \" + str(number))\n",
    "print(\"Your total score is \" + str(score))"
   ]
  }
 ],
 "metadata": {
  "kernelspec": {
   "display_name": "Python 3",
   "language": "python",
   "name": "python3"
  },
  "language_info": {
   "codemirror_mode": {
    "name": "ipython",
    "version": 3
   },
   "file_extension": ".py",
   "mimetype": "text/x-python",
   "name": "python",
   "nbconvert_exporter": "python",
   "pygments_lexer": "ipython3",
   "version": "3.7.4"
  }
 },
 "nbformat": 4,
 "nbformat_minor": 2
}
