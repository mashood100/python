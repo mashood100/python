{
 "cells": [
  {
   "cell_type": "code",
   "execution_count": 11,
   "metadata": {},
   "outputs": [
    {
     "name": "stdout",
     "output_type": "stream",
     "text": [
      "flower you have: 700000\n",
      "\n",
      "flower for each tomb: 4000\n",
      "\n",
      " 1392000 flowers on 1 turn\n",
      "\n",
      " wrong answer try again\n"
     ]
    }
   ],
   "source": [
    "input_=int(input(\"flower you have: \"))\n",
    "i=0\n",
    "flower=input_\n",
    "tomb = int(input(\"\\nflower for each tomb: \"))\n",
    "while(flower > 0):\n",
    "    flower=flower-tomb\n",
    "    flower=flower*2\n",
    "    i+=1\n",
    "    print(\"\\n\",flower,\"flowers on\",i,\"turn\")\n",
    "    if flower ==0:\n",
    "        print(\"\\n You win!!\")\n",
    "    elif flower > input_ or flower == input_ :\n",
    "     print(\"\\n wrong answer try again\")\n",
    "     break\n"
   ]
  },
  {
   "cell_type": "code",
   "execution_count": null,
   "metadata": {},
   "outputs": [],
   "source": []
  }
 ],
 "metadata": {
  "kernelspec": {
   "display_name": "Python 3",
   "language": "python",
   "name": "python3"
  },
  "language_info": {
   "codemirror_mode": {
    "name": "ipython",
    "version": 3
   },
   "file_extension": ".py",
   "mimetype": "text/x-python",
   "name": "python",
   "nbconvert_exporter": "python",
   "pygments_lexer": "ipython3",
   "version": "3.7.4"
  }
 },
 "nbformat": 4,
 "nbformat_minor": 2
}
