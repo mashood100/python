{
 "cells": [
  {
   "cell_type": "code",
   "execution_count": 60,
   "metadata": {},
   "outputs": [
    {
     "name": "stdout",
     "output_type": "stream",
     "text": [
      "model of car is :vigo \n",
      "owner Mashood\n",
      "car colour : black \n",
      "made by : toyata company \n",
      "year of 2019  \n",
      "----------------------------------------------------\n",
      "                   buyer 2                           \n",
      "----------------------------------------------------\n",
      "model of car is :vigo \n",
      "owner Mashood\n",
      "car colour : black \n",
      "made by : toyata company (defult) \n",
      "year of 2019 (defult)  \n",
      "\n",
      " ______________modifications____________\n",
      " \n",
      " buyer2 modified company\n",
      "sukuki\n",
      "\n",
      " buyer2 modified year\n",
      "1990\n",
      "\n",
      " buyer2 modified name\n",
      "hussain\n"
     ]
    }
   ],
   "source": [
    "class car:\n",
    "    def __init__(self,model,owner,colour):\n",
    "        self.model = model\n",
    "        self.owner = owner\n",
    "        self.colour = colour\n",
    "        self.company = \"toyata\"\n",
    "        self.year = 2019\n",
    "        \n",
    "    def update_comapny(self):\n",
    "         \n",
    "        self.company = \"sukuki\"\n",
    "        print(self.company)\n",
    "    def update_year(self):\n",
    "         \n",
    "        self.year = \"1990\"\n",
    "        print(self.year)\n",
    "    def update_owner(self):\n",
    "         \n",
    "        self.owner = \"Hussain\"\n",
    "        print(self.owner)     \n",
    "        \n",
    "buyer1 = car(\"vigo\",\"Mashood\",\"black\")\n",
    "\n",
    "print(\"model of car is :{} \".format(buyer1.model))\n",
    "print(\"owner {}\".format(buyer1.owner))\n",
    "print(\"car colour : {} \".format(buyer1.colour))\n",
    "print(\"made by : {} company \".format(buyer1.company))\n",
    "print(\"year of {}  \".format(buyer1.year))\n",
    "\n",
    "print(\"----------------------------------------------------\")\n",
    "print(\"                   buyer 2                           \")\n",
    "print(\"----------------------------------------------------\")\n",
    "\n",
    "\n",
    "\n",
    "buyer2 = car(\"vigo\",\"Mashood\",\"black\")\n",
    "\n",
    "print(\"model of car is :{} \".format(buyer2.model))\n",
    "print(\"owner {}\".format(buyer2.owner))\n",
    "print(\"car colour : {} \".format(buyer2.colour))\n",
    "print(\"made by : {} company (defult) \".format(buyer1.company))\n",
    "print(\"year of {} (defult)  \".format(buyer2.year))\n",
    "      \n",
    "print(\"\\n ______________modifications____________\")    \n",
    "    \n",
    "print(\" \\n buyer2 modified company\")\n",
    "buyer2.update_comapny()\n",
    "print(\"\\n buyer2 modified year\")\n",
    "buyer2.update_year()\n",
    "print(\"\\n buyer2 modified name\")\n",
    "buyer2.update_owner()"
   ]
  }
 ],
 "metadata": {
  "kernelspec": {
   "display_name": "Python 3",
   "language": "python",
   "name": "python3"
  },
  "language_info": {
   "codemirror_mode": {
    "name": "ipython",
    "version": 3
   },
   "file_extension": ".py",
   "mimetype": "text/x-python",
   "name": "python",
   "nbconvert_exporter": "python",
   "pygments_lexer": "ipython3",
   "version": "3.7.4"
  }
 },
 "nbformat": 4,
 "nbformat_minor": 2
}
