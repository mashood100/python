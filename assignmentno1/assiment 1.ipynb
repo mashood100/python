{
 "cells": [
  {
   "cell_type": "code",
   "execution_count": 1,
   "metadata": {},
   "outputs": [
    {
     "name": "stdout",
     "output_type": "stream",
     "text": [
      "twinkle Little Star\n",
      "   how i wonder what you are\n",
      "        above above the world so high\n",
      "        like a diamond in tg sky\n",
      "twinkle Little Star\n",
      "how i wonder what you are\n"
     ]
    }
   ],
   "source": [
    "a = \"twinkle Little Star\"\n",
    "b = \"how i wonder what you are\"\n",
    "c = \"above above the world so high\"\n",
    "d = \"like a diamond in tg sky\"\n",
    "\n",
    "\n",
    "\n",
    "print(a)\n",
    "print (\"   \"+b)\n",
    "print (\"        \"+c)\n",
    "print (\"        \"+d)\n",
    "\n",
    "print(a)\n",
    "print (b)"
   ]
  },
  {
   "cell_type": "code",
   "execution_count": 2,
   "metadata": {},
   "outputs": [
    {
     "name": "stdout",
     "output_type": "stream",
     "text": [
      "enter first your namemashood\n",
      "enter last namehusssain\n",
      "husssain mashood\n"
     ]
    }
   ],
   "source": [
    "first_name = input(\"enter first your name\")\n",
    "last_name = input(\"enter last name\")\n",
    "\n",
    "\n",
    "print(last_name+\" \"+first_name)"
   ]
  },
  {
   "cell_type": "code",
   "execution_count": 4,
   "metadata": {},
   "outputs": [
    {
     "name": "stdout",
     "output_type": "stream",
     "text": [
      "oct/31/19\n",
      "8:24\n"
     ]
    }
   ],
   "source": [
    "#question 3\n",
    "\n",
    "time = \"8:24\"\n",
    "\n",
    "date = \"oct/31/19\"\n",
    "\n",
    "print(date)\n",
    "print(time)"
   ]
  },
  {
   "cell_type": "code",
   "execution_count": null,
   "metadata": {},
   "outputs": [],
   "source": [
    "x = int(input (\"enter 1st value \"))\n",
    "y = int(input(\"enter 2nd value\"))\n",
    "\n",
    "result = x+y\n",
    "print(result)"
   ]
  },
  {
   "cell_type": "code",
   "execution_count": null,
   "metadata": {},
   "outputs": [],
   "source": [
    "first_name = input(\"enter first your name\")\n",
    "last_name = input(\"enter last name\")\n",
    "\n",
    "\n",
    "print(last_name+\" \"+first_name)"
   ]
  },
  {
   "cell_type": "code",
   "execution_count": null,
   "metadata": {},
   "outputs": [],
   "source": [
    "Pie = 3.147\n",
    "\n",
    "r = int(input(\"Enter the radius :\"))\n",
    "\n",
    "area = 2*Pie* r \n",
    "\n",
    "print(area)"
   ]
  }
 ],
 "metadata": {
  "kernelspec": {
   "display_name": "Python 3",
   "language": "python",
   "name": "python3"
  },
  "language_info": {
   "codemirror_mode": {
    "name": "ipython",
    "version": 3
   },
   "file_extension": ".py",
   "mimetype": "text/x-python",
   "name": "python",
   "nbconvert_exporter": "python",
   "pygments_lexer": "ipython3",
   "version": "3.7.4"
  }
 },
 "nbformat": 4,
 "nbformat_minor": 2
}
